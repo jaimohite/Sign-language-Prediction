{
 "cells": [
  {
   "cell_type": "code",
   "execution_count": 4,
   "id": "37c0f0d5",
   "metadata": {},
   "outputs": [],
   "source": [
    "# Immporting the libraries\n",
    "import numpy as np\n",
    "import tensorflow as tf\n",
    "import cv2\n",
    "\n",
    "# Loading trained model\n",
    "model = tf.keras.models.load_model('model.h5')\n",
    "\n",
    "# Using image as an array for prediction function\n",
    "def recognize(img):\n",
    "    img = np.resize(img, (28,28,1))\n",
    "    img = np.expand_dims(img, axis=0)\n",
    "    img = np.asarray(img)\n",
    "    classes = model.predict(img)[0]\n",
    "    pred_id = list(classes).index(max(classes))\n",
    "    return pred_id\n",
    "\n",
    "\n",
    "class VideoCamera(object):\n",
    "    def __init__(self):\n",
    "        # Initializing video frame\n",
    "        self.cap = cv2.VideoCapture(0)\n",
    "    \n",
    "    def __del__(self):\n",
    "        # Release the capture\n",
    "        self.cap.release()\n",
    "        \n",
    "    def gen_frame(self):\n",
    "        while True:\n",
    "            # Capture frame-by-frame\n",
    "            ret, frame = self.cap.read()   \n",
    "            # Our operations on the frame come here\n",
    "            # Displaying border for hand region\n",
    "            frame = cv2.rectangle(frame, (40,100), (240,300), (0,255,0), \n",
    "                                  thickness = 1)\n",
    "            # Cropping hand region part\n",
    "            crop = frame[100:300, 40:240]\n",
    "            # Converting to GRAY\n",
    "            img_gry = cv2.cvtColor(crop, cv2.COLOR_BGR2GRAY)\n",
    "            # Applying Gaussian BLur                       \n",
    "            img_gry_blr = cv2.GaussianBlur(img_gry, (5,5), 0)\n",
    "            # Resizing\n",
    "            img = cv2.resize(img_gry_blr, (28,28), interpolation=cv2.INTER_AREA)\n",
    "            # Prediction\n",
    "            y_pred = recognize(img)\n",
    "            # Character equivalent\n",
    "            char_op = chr(y_pred + 65)\n",
    "            cv2.putText(frame, char_op, (580,420), cv2.FONT_HERSHEY_SIMPLEX, 2, \n",
    "                        (255,255,0), 2)\n",
    "            # Display the resulting frame\n",
    "            \"\"\"cv2.imshow('frame', frame)\n",
    "            cv2.imshow('gry_blr', img_gry_blr)\n",
    "            if cv2.waitKey(1) & 0xFF == ord('q'):\n",
    "                break\"\"\"\n",
    "            # Encoding raw frame to jpg\n",
    "            ret, jpeg = cv2.imencode('.jpg', frame)\n",
    "            frame = jpeg.tobytes()\n",
    "            yield (b'--frame\\r\\n'\n",
    "                   b'Content-Type: image/jpeg\\r\\n\\r\\n' + frame + b'\\r\\n')"
   ]
  },
  {
   "cell_type": "code",
   "execution_count": null,
   "id": "885041ee",
   "metadata": {},
   "outputs": [],
   "source": []
  },
  {
   "cell_type": "code",
   "execution_count": null,
   "id": "57afad5a",
   "metadata": {},
   "outputs": [],
   "source": []
  },
  {
   "cell_type": "code",
   "execution_count": null,
   "id": "80a5c260",
   "metadata": {},
   "outputs": [],
   "source": []
  },
  {
   "cell_type": "code",
   "execution_count": null,
   "id": "db6357c7",
   "metadata": {},
   "outputs": [],
   "source": []
  }
 ],
 "metadata": {
  "kernelspec": {
   "display_name": "Python 3",
   "language": "python",
   "name": "python3"
  },
  "language_info": {
   "codemirror_mode": {
    "name": "ipython",
    "version": 3
   },
   "file_extension": ".py",
   "mimetype": "text/x-python",
   "name": "python",
   "nbconvert_exporter": "python",
   "pygments_lexer": "ipython3",
   "version": "3.8.8"
  }
 },
 "nbformat": 4,
 "nbformat_minor": 5
}
